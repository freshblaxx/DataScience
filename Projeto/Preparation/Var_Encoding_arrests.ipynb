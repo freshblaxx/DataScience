{
 "cells": [
  {
   "cell_type": "code",
   "execution_count": 1,
   "metadata": {},
   "outputs": [],
   "source": [
    "from pandas import read_csv, DataFrame\n",
    "import numpy as np\n",
    "\n",
    "data: DataFrame = read_csv(\"class_ny_arrests.csv\",index_col=\"ARREST_KEY\", na_values={\"\", \"UNKNOWN\"})"
   ]
  },
  {
   "cell_type": "code",
   "execution_count": 2,
   "metadata": {},
   "outputs": [
    {
     "data": {
      "text/html": [
       "<div>\n",
       "<style scoped>\n",
       "    .dataframe tbody tr th:only-of-type {\n",
       "        vertical-align: middle;\n",
       "    }\n",
       "\n",
       "    .dataframe tbody tr th {\n",
       "        vertical-align: top;\n",
       "    }\n",
       "\n",
       "    .dataframe thead th {\n",
       "        text-align: right;\n",
       "    }\n",
       "</style>\n",
       "<table border=\"1\" class=\"dataframe\">\n",
       "  <thead>\n",
       "    <tr style=\"text-align: right;\">\n",
       "      <th></th>\n",
       "      <th>ARREST_DATE</th>\n",
       "      <th>PD_CD</th>\n",
       "      <th>PD_DESC</th>\n",
       "      <th>KY_CD</th>\n",
       "      <th>OFNS_DESC</th>\n",
       "      <th>LAW_CODE</th>\n",
       "      <th>LAW_CAT_CD</th>\n",
       "      <th>ARREST_BORO</th>\n",
       "      <th>ARREST_PRECINCT</th>\n",
       "      <th>JURISDICTION_CODE</th>\n",
       "      <th>AGE_GROUP</th>\n",
       "      <th>PERP_SEX</th>\n",
       "      <th>PERP_RACE</th>\n",
       "      <th>X_COORD_CD</th>\n",
       "      <th>Y_COORD_CD</th>\n",
       "      <th>Latitude</th>\n",
       "      <th>Longitude</th>\n",
       "    </tr>\n",
       "    <tr>\n",
       "      <th>ARREST_KEY</th>\n",
       "      <th></th>\n",
       "      <th></th>\n",
       "      <th></th>\n",
       "      <th></th>\n",
       "      <th></th>\n",
       "      <th></th>\n",
       "      <th></th>\n",
       "      <th></th>\n",
       "      <th></th>\n",
       "      <th></th>\n",
       "      <th></th>\n",
       "      <th></th>\n",
       "      <th></th>\n",
       "      <th></th>\n",
       "      <th></th>\n",
       "      <th></th>\n",
       "      <th></th>\n",
       "    </tr>\n",
       "  </thead>\n",
       "  <tbody>\n",
       "    <tr>\n",
       "      <th>32311380</th>\n",
       "      <td>06/18/2007</td>\n",
       "      <td>511.0</td>\n",
       "      <td>CONTROLLED SUBSTANCE, POSSESSION 7</td>\n",
       "      <td>235.0</td>\n",
       "      <td>DANGEROUS DRUGS</td>\n",
       "      <td>PL 2200300</td>\n",
       "      <td>M</td>\n",
       "      <td>Q</td>\n",
       "      <td>27</td>\n",
       "      <td>1.0</td>\n",
       "      <td>18-24</td>\n",
       "      <td>M</td>\n",
       "      <td>BLACK</td>\n",
       "      <td>NaN</td>\n",
       "      <td>NaN</td>\n",
       "      <td>NaN</td>\n",
       "      <td>NaN</td>\n",
       "    </tr>\n",
       "    <tr>\n",
       "      <th>192799737</th>\n",
       "      <td>01/26/2019</td>\n",
       "      <td>177.0</td>\n",
       "      <td>SEXUAL ABUSE</td>\n",
       "      <td>116.0</td>\n",
       "      <td>SEX CRIMES</td>\n",
       "      <td>PL 1306503</td>\n",
       "      <td>F</td>\n",
       "      <td>M</td>\n",
       "      <td>25</td>\n",
       "      <td>0.0</td>\n",
       "      <td>45-64</td>\n",
       "      <td>M</td>\n",
       "      <td>BLACK</td>\n",
       "      <td>1000555.0</td>\n",
       "      <td>230994.0</td>\n",
       "      <td>40.800694</td>\n",
       "      <td>-73.941109</td>\n",
       "    </tr>\n",
       "    <tr>\n",
       "      <th>193260691</th>\n",
       "      <td>02/06/2019</td>\n",
       "      <td>NaN</td>\n",
       "      <td>NaN</td>\n",
       "      <td>NaN</td>\n",
       "      <td>NaN</td>\n",
       "      <td>PL 2203400</td>\n",
       "      <td>F</td>\n",
       "      <td>M</td>\n",
       "      <td>14</td>\n",
       "      <td>0.0</td>\n",
       "      <td>25-44</td>\n",
       "      <td>M</td>\n",
       "      <td>NaN</td>\n",
       "      <td>986685.0</td>\n",
       "      <td>215375.0</td>\n",
       "      <td>40.757839</td>\n",
       "      <td>-73.991212</td>\n",
       "    </tr>\n",
       "    <tr>\n",
       "      <th>149117452</th>\n",
       "      <td>01/06/2016</td>\n",
       "      <td>153.0</td>\n",
       "      <td>RAPE 3</td>\n",
       "      <td>104.0</td>\n",
       "      <td>RAPE</td>\n",
       "      <td>PL 1302503</td>\n",
       "      <td>F</td>\n",
       "      <td>K</td>\n",
       "      <td>67</td>\n",
       "      <td>0.0</td>\n",
       "      <td>25-44</td>\n",
       "      <td>M</td>\n",
       "      <td>BLACK</td>\n",
       "      <td>998032.0</td>\n",
       "      <td>175598.0</td>\n",
       "      <td>40.648650</td>\n",
       "      <td>-73.950336</td>\n",
       "    </tr>\n",
       "    <tr>\n",
       "      <th>190049060</th>\n",
       "      <td>11/15/2018</td>\n",
       "      <td>157.0</td>\n",
       "      <td>RAPE 1</td>\n",
       "      <td>104.0</td>\n",
       "      <td>RAPE</td>\n",
       "      <td>PL 1303501</td>\n",
       "      <td>F</td>\n",
       "      <td>K</td>\n",
       "      <td>77</td>\n",
       "      <td>0.0</td>\n",
       "      <td>25-44</td>\n",
       "      <td>M</td>\n",
       "      <td>BLACK</td>\n",
       "      <td>1003606.0</td>\n",
       "      <td>185050.0</td>\n",
       "      <td>40.674583</td>\n",
       "      <td>-73.930222</td>\n",
       "    </tr>\n",
       "  </tbody>\n",
       "</table>\n",
       "</div>"
      ],
      "text/plain": [
       "           ARREST_DATE  PD_CD                             PD_DESC  KY_CD  \\\n",
       "ARREST_KEY                                                                 \n",
       "32311380    06/18/2007  511.0  CONTROLLED SUBSTANCE, POSSESSION 7  235.0   \n",
       "192799737   01/26/2019  177.0                        SEXUAL ABUSE  116.0   \n",
       "193260691   02/06/2019    NaN                                 NaN    NaN   \n",
       "149117452   01/06/2016  153.0                              RAPE 3  104.0   \n",
       "190049060   11/15/2018  157.0                              RAPE 1  104.0   \n",
       "\n",
       "                  OFNS_DESC    LAW_CODE LAW_CAT_CD ARREST_BORO  \\\n",
       "ARREST_KEY                                                       \n",
       "32311380    DANGEROUS DRUGS  PL 2200300          M           Q   \n",
       "192799737        SEX CRIMES  PL 1306503          F           M   \n",
       "193260691               NaN  PL 2203400          F           M   \n",
       "149117452              RAPE  PL 1302503          F           K   \n",
       "190049060              RAPE  PL 1303501          F           K   \n",
       "\n",
       "            ARREST_PRECINCT  JURISDICTION_CODE AGE_GROUP PERP_SEX PERP_RACE  \\\n",
       "ARREST_KEY                                                                    \n",
       "32311380                 27                1.0     18-24        M     BLACK   \n",
       "192799737                25                0.0     45-64        M     BLACK   \n",
       "193260691                14                0.0     25-44        M       NaN   \n",
       "149117452                67                0.0     25-44        M     BLACK   \n",
       "190049060                77                0.0     25-44        M     BLACK   \n",
       "\n",
       "            X_COORD_CD  Y_COORD_CD   Latitude  Longitude  \n",
       "ARREST_KEY                                                \n",
       "32311380           NaN         NaN        NaN        NaN  \n",
       "192799737    1000555.0    230994.0  40.800694 -73.941109  \n",
       "193260691     986685.0    215375.0  40.757839 -73.991212  \n",
       "149117452     998032.0    175598.0  40.648650 -73.950336  \n",
       "190049060    1003606.0    185050.0  40.674583 -73.930222  "
      ]
     },
     "execution_count": 2,
     "metadata": {},
     "output_type": "execute_result"
    }
   ],
   "source": [
    "data.head()"
   ]
  },
  {
   "cell_type": "code",
   "execution_count": 3,
   "metadata": {},
   "outputs": [
    {
     "name": "stdout",
     "output_type": "stream",
     "text": [
      "Numeric columns: ['PD_CD', 'KY_CD', 'JURISDICTION_CODE', 'X_COORD_CD', 'Y_COORD_CD', 'Latitude', 'Longitude', 'ARREST_PRECINCT']\n",
      "Symbolic columns: ['ARREST_DATE', 'PD_DESC', 'OFNS_DESC', 'LAW_CODE', 'LAW_CAT_CD', 'ARREST_BORO', 'AGE_GROUP', 'PERP_SEX', 'PERP_RACE']\n"
     ]
    }
   ],
   "source": [
    "def get_variable_types(df):\n",
    "    return df.dtypes\n",
    "\n",
    "# Get the variable types of the 'data' DataFrame\n",
    "variable_types = get_variable_types(data)\n",
    "numeric_columns = variable_types[variable_types == 'float64'].index.tolist() + variable_types[variable_types == 'int64'].index.tolist()\n",
    "symbolic_columns = variable_types[variable_types == 'object'].index.tolist()\n",
    "\n",
    "print(\"Numeric columns:\", numeric_columns)\n",
    "print(\"Symbolic columns:\", symbolic_columns)"
   ]
  },
  {
   "cell_type": "code",
   "execution_count": 4,
   "metadata": {},
   "outputs": [
    {
     "name": "stdout",
     "output_type": "stream",
     "text": [
      "ARREST_DATE: 5844 unique values\n",
      "PD_DESC: 337 unique values\n",
      "OFNS_DESC: 72 unique values\n",
      "LAW_CODE: 2114 unique values\n",
      "LAW_CAT_CD: 2 unique values\n",
      "ARREST_BORO: 5 unique values\n",
      "AGE_GROUP: 87 unique values\n",
      "PERP_SEX: 2 unique values\n",
      "PERP_RACE: 7 unique values\n"
     ]
    }
   ],
   "source": [
    "for column in symbolic_columns:\n",
    "    print(f\"{column}: {data[column].nunique()} unique values\")"
   ]
  },
  {
   "cell_type": "code",
   "execution_count": 5,
   "metadata": {},
   "outputs": [
    {
     "name": "stdout",
     "output_type": "stream",
     "text": [
      "['18-24' '45-64' '25-44' '<18' '65+' '929' '944' '945' '320' '932' '894'\n",
      " '935' '934' '940' nan '339' '323' '965' '948' '946' '938' '895' '194'\n",
      " '928' '352' '943' '956' '920' '951' '708' '816' '316' '912' '237' '939'\n",
      " '947' '740' '952' '949' '338' '922' '933' '921' '1042' '2000' '1937'\n",
      " '1916' '1928' '2007' '1918' '1947' '1953' '1942' '1024' '1948' '937'\n",
      " '1922' '1048' '1018' '918' '927' '926' '931' '942' '924' '941' '930'\n",
      " '955' '936' '812' '317' '909' '923' '914' '896' '709' '640' '925' '212'\n",
      " '200' '954' '314' '723' '309' '959' '910' '446' '330']\n"
     ]
    }
   ],
   "source": [
    "unique_arrest_boro = data['AGE_GROUP'].unique()\n",
    "print(unique_arrest_boro)"
   ]
  },
  {
   "cell_type": "code",
   "execution_count": 6,
   "metadata": {
    "vscode": {
     "languageId": "javascript"
    }
   },
   "outputs": [],
   "source": [
    "data['LAW_CAT_CD'] = data['LAW_CAT_CD'].map({'M': 0, 'F': 1})\n",
    "data['PERP_SEX'] = data['PERP_SEX'].map({'M': 0, 'F': 1})\n",
    "data['PERP_RACE'] = data['PERP_RACE'].map({\n",
    "    'BLACK': 0,\n",
    "    'WHITE': 1,\n",
    "    'BLACK HISPANIC': 2,\n",
    "    'WHITE HISPANIC': 3,\n",
    "    'ASIAN / PACIFIC ISLANDER': 4,\n",
    "    'AMERICAN INDIAN/ALASKAN NATIVE': 5\n",
    "})\n",
    "data['ARREST_BORO'] = data['ARREST_BORO'].map({\n",
    "    'Q': 0,\n",
    "    'M': 1,\n",
    "    'K': 2,\n",
    "    'B': 3,\n",
    "    'S': 4\n",
    "})\n",
    "\n",
    "data['AGE_GROUP'] = data['AGE_GROUP'].map({\n",
    "    '<18': 0,\n",
    "    '18-24': 1,\n",
    "    '25-44': 2,\n",
    "    '45-64': 3,\n",
    "    '65+': 4\n",
    "})"
   ]
  },
  {
   "cell_type": "code",
   "execution_count": 7,
   "metadata": {},
   "outputs": [
    {
     "name": "stdout",
     "output_type": "stream",
     "text": [
      "Numeric columns: ['PD_CD', 'KY_CD', 'ARREST_BORO', 'JURISDICTION_CODE', 'AGE_GROUP', 'PERP_RACE', 'X_COORD_CD', 'Y_COORD_CD', 'Latitude', 'Longitude', 'LAW_CAT_CD', 'ARREST_PRECINCT', 'PERP_SEX']\n",
      "Symbolic columns: ['ARREST_DATE', 'PD_DESC', 'OFNS_DESC', 'LAW_CODE']\n"
     ]
    }
   ],
   "source": [
    "variable_types = get_variable_types(data)\n",
    "numeric_columns = variable_types[variable_types == 'float64'].index.tolist() + variable_types[variable_types == 'int64'].index.tolist()\n",
    "symbolic_columns = variable_types[variable_types == 'object'].index.tolist()\n",
    "\n",
    "print(\"Numeric columns:\", numeric_columns)\n",
    "print(\"Symbolic columns:\", symbolic_columns)"
   ]
  },
  {
   "cell_type": "code",
   "execution_count": null,
   "metadata": {},
   "outputs": [
    {
     "ename": "",
     "evalue": "",
     "output_type": "error",
     "traceback": [
      "\u001b[1;31mThe Kernel crashed while executing code in the current cell or a previous cell. \n",
      "\u001b[1;31mPlease review the code in the cell(s) to identify a possible cause of the failure. \n",
      "\u001b[1;31mClick <a href='https://aka.ms/vscodeJupyterKernelCrash'>here</a> for more info. \n",
      "\u001b[1;31mView Jupyter <a href='command:jupyter.viewOutput'>log</a> for further details."
     ]
    }
   ],
   "source": [
    "# Define valid age groups\n",
    "valid_age_groups = ['<18', '18-24', '25-44', '45-64', '65+']\n",
    "\n",
    "# Replace erroneous values with NaN\n",
    "data['AGE_GROUP'] = data['AGE_GROUP'].apply(lambda x: x if x in valid_age_groups else np.nan)\n"
   ]
  },
  {
   "cell_type": "code",
   "execution_count": null,
   "metadata": {},
   "outputs": [],
   "source": [
    "from sklearn.preprocessing import OneHotEncoder\n",
    "import pandas as pd\n",
    "# Columns to be dummified\n",
    "columns_to_dummify = ['PD_DESC', 'OFNS_DESC', 'LAW_CODE']\n",
    "\n",
    "# Initialize the OneHotEncoder\n",
    "# Convert 'ARREST_DATE' to datetime\n",
    "data['ARREST_DATE'] = pd.to_datetime(data['ARREST_DATE'])\n",
    "\n",
    "# Extract year, month, and day as separate columns\n",
    "data['ARREST_YEAR'] = data['ARREST_DATE'].dt.year\n",
    "data['ARREST_MONTH'] = data['ARREST_DATE'].dt.month\n",
    "data['ARREST_DAY'] = data['ARREST_DATE'].dt.day\n",
    "\n",
    "\n",
    "encoder = OneHotEncoder(sparse_output=False, handle_unknown='ignore')\n",
    "\n",
    "# Fit and transform the data\n",
    "encoded_data = encoder.fit_transform(data[columns_to_dummify])\n",
    "\n",
    "# Create a DataFrame with the encoded data\n",
    "data[encoder.get_feature_names_out(columns_to_dummify)] = encoded_data\n",
    "\n",
    "print(data.head())"
   ]
  },
  {
   "cell_type": "code",
   "execution_count": null,
   "metadata": {},
   "outputs": [],
   "source": []
  }
 ],
 "metadata": {
  "kernelspec": {
   "display_name": "base",
   "language": "python",
   "name": "python3"
  },
  "language_info": {
   "codemirror_mode": {
    "name": "ipython",
    "version": 3
   },
   "file_extension": ".py",
   "mimetype": "text/x-python",
   "name": "python",
   "nbconvert_exporter": "python",
   "pygments_lexer": "ipython3",
   "version": "3.12.7"
  }
 },
 "nbformat": 4,
 "nbformat_minor": 2
}
