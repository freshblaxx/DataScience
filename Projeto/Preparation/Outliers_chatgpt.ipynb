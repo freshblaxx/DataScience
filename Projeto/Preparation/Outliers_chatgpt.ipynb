{
 "cells": [
  {
   "cell_type": "code",
   "execution_count": 3,
   "metadata": {},
   "outputs": [],
   "source": [
    "from pandas import read_csv, DataFrame\n",
    "import pandas as pd\n",
    "data: DataFrame = read_csv(\"new_class_ny_arrests.csv\")"
   ]
  },
  {
   "cell_type": "code",
   "execution_count": 4,
   "metadata": {},
   "outputs": [
    {
     "name": "stderr",
     "output_type": "stream",
     "text": [
      "/var/folders/sz/082127xx22j1st6q0z4tz7780000gn/T/ipykernel_12940/910998391.py:10: FutureWarning: The behavior of DataFrame concatenation with empty or all-NA entries is deprecated. In a future version, this will no longer exclude empty or all-NA columns when determining the result dtypes. To retain the old behavior, exclude the relevant entries before the concat operation.\n",
      "  outliers = pd.concat([outliers, outliers_in_column])\n"
     ]
    },
    {
     "name": "stdout",
     "output_type": "stream",
     "text": [
      "         PD_CD PD_DESC  KY_CD OFNS_DESC LAW_CODE LAW_CAT_CD  ARREST_BORO  \\\n",
      "1205     269.0     106  121.0        30      215          1          4.0   \n",
      "1408     809.0     107  364.0        38      227          0          2.0   \n",
      "1446     744.0     108  359.0        34      228          0          0.0   \n",
      "1481     576.0     109  234.0         7      229          0          0.0   \n",
      "1501     254.0     110  351.0        30      233          0          1.0   \n",
      "...        ...     ...    ...       ...      ...        ...          ...   \n",
      "4545526  478.0      44  343.0        23       80          0          3.0   \n",
      "4571826  567.0      21  235.0         0       25          0          1.0   \n",
      "4572554  567.0      21  235.0         0       25          0          3.0   \n",
      "4580131  793.0      12  118.0         8       13          1          0.0   \n",
      "4650368  905.0      58  347.0        29      108          0          3.0   \n",
      "\n",
      "        ARREST_PRECINCT  JURISDICTION_CODE  AGE_GROUP PERP_SEX  PERP_RACE  \\\n",
      "1205                121                0.0        1.0        0        3.0   \n",
      "1408                 67                0.0        2.0        0        4.0   \n",
      "1446                102                0.0        3.0        0        0.0   \n",
      "1481                103                0.0        2.0        1        3.0   \n",
      "1501                 33                0.0        2.0        0        3.0   \n",
      "...                 ...                ...        ...      ...        ...   \n",
      "4545526              49                0.0        1.0        0        3.0   \n",
      "4571826              32                0.0        1.0        0        0.0   \n",
      "4572554              43                0.0        1.0        0        0.0   \n",
      "4580131             109                0.0        1.0        0        3.0   \n",
      "4650368              40                0.0        1.0        0        3.0   \n",
      "\n",
      "         X_COORD_CD  Y_COORD_CD   Latitude  Longitude ARREST_YEAR  \\\n",
      "1205       947914.0    172573.0  40.640283 -74.130928        2019   \n",
      "1408       998553.0    172620.0  40.640475 -73.948464        2019   \n",
      "1446      1032428.0    198872.0  40.712411 -73.826217        2019   \n",
      "1481      1047924.0    198412.0  40.711051 -73.770326        2019   \n",
      "1501      1000833.0    242427.0  40.832074 -73.940077        2019   \n",
      "...             ...         ...        ...        ...         ...   \n",
      "4545526   1025377.0   1250957.0  43.598385 -73.844933        2007   \n",
      "4571826   1000170.0   4238706.0  51.721568 -73.931118        2006   \n",
      "4572554   1022166.0   3238856.0  49.021741 -73.843663        2006   \n",
      "4580131   1032250.0   6216843.0  56.974143 -73.769819        2006   \n",
      "4650368   1007098.0   3234465.0  49.009892 -73.905813        2006   \n",
      "\n",
      "        ARREST_MONTH ARREST_DAY  \n",
      "1205               1          1  \n",
      "1408               1         30  \n",
      "1446               8         28  \n",
      "1481               3         22  \n",
      "1501               4         19  \n",
      "...              ...        ...  \n",
      "4545526            1         17  \n",
      "4571826           12         22  \n",
      "4572554           12         28  \n",
      "4580131           11         25  \n",
      "4650368           10         23  \n",
      "\n",
      "[2305702 rows x 19 columns]\n"
     ]
    }
   ],
   "source": [
    "def identify_outliers(df):\n",
    "    outliers = pd.DataFrame(columns=df.columns)\n",
    "    for column in df.select_dtypes(include=['float64', 'int64']).columns:\n",
    "        Q1 = df[column].quantile(0.25)\n",
    "        Q3 = df[column].quantile(0.75)\n",
    "        IQR = Q3 - Q1\n",
    "        lower_bound = Q1 - 1.5 * IQR\n",
    "        upper_bound = Q3 + 1.5 * IQR\n",
    "        outliers_in_column = df[(df[column] < lower_bound) | (df[column] > upper_bound)]\n",
    "        outliers = pd.concat([outliers, outliers_in_column])\n",
    "    return outliers.drop_duplicates()\n",
    "\n",
    "outliers = identify_outliers(data)\n",
    "print(outliers)"
   ]
  },
  {
   "cell_type": "code",
   "execution_count": 8,
   "metadata": {},
   "outputs": [
    {
     "name": "stdout",
     "output_type": "stream",
     "text": [
      "Number of outliers: 248435\n",
      "Original data size: (4968684, 19)\n",
      "Data size without outliers: (4720249, 19)\n"
     ]
    }
   ],
   "source": [
    "# Make a copy of the original data\n",
    "data_copy = data.copy()\n",
    "\n",
    "from sklearn.ensemble import IsolationForest\n",
    "import pandas as pd\n",
    "\n",
    "# Handle missing values by filling them with the mean of the column\n",
    "data_copy.fillna(data_copy.mean(), inplace=True)\n",
    "\n",
    "# Filter numeric columns\n",
    "numeric_data = data_copy.select_dtypes(include=['float64', 'int64'])\n",
    "\n",
    "# Fit the model\n",
    "iso_forest = IsolationForest(contamination=0.05, random_state=1)\n",
    "outliers = iso_forest.fit_predict(numeric_data)\n",
    "\n",
    "# Add the outlier flag to the original data\n",
    "data_copy['outlier'] = outliers\n",
    "\n",
    "# Print the number of outliers\n",
    "print(f\"Number of outliers: {sum(outliers == -1)}\")\n",
    "print(f\"Original data size: {data.shape}\")\n",
    "print(f\"Data size without outliers: {data[data_copy['outlier'] != -1].shape}\")"
   ]
  }
 ],
 "metadata": {
  "kernelspec": {
   "display_name": "base",
   "language": "python",
   "name": "python3"
  },
  "language_info": {
   "codemirror_mode": {
    "name": "ipython",
    "version": 3
   },
   "file_extension": ".py",
   "mimetype": "text/x-python",
   "name": "python",
   "nbconvert_exporter": "python",
   "pygments_lexer": "ipython3",
   "version": "3.12.7"
  }
 },
 "nbformat": 4,
 "nbformat_minor": 2
}
