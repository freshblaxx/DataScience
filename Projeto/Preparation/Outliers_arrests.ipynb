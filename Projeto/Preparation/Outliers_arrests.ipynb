{
 "cells": [
  {
   "cell_type": "code",
   "execution_count": 1,
   "metadata": {},
   "outputs": [
    {
     "name": "stderr",
     "output_type": "stream",
     "text": [
      "/Users/pascalludwig/opt/anaconda3/lib/python3.9/site-packages/numpy/lib/arraysetops.py:583: FutureWarning: elementwise comparison failed; returning scalar instead, but in the future will perform elementwise comparison\n",
      "  mask |= (ar1 == a)\n"
     ]
    },
    {
     "name": "stdout",
     "output_type": "stream",
     "text": [
      "Original dataset shape: (4968684, 17)\n",
      "Dataset shape after dropping outliers: (4679412, 17)\n"
     ]
    }
   ],
   "source": [
    "import pandas as pd\n",
    "\n",
    "# Load the dataset\n",
    "file_path = '/Users/pascalludwig/Documents/Master/Semester 1/Term 2/Data Science/Project/DataScience/class_ny_arrests.csv'\n",
    "data = pd.read_csv(file_path, index_col=0, na_values=\"\")\n",
    "\n",
    "# Define a function to calculate outlier thresholds\n",
    "def determine_outlier_thresholds_for_var(series, n_std=3):\n",
    "    \"\"\"\n",
    "    Calculate the upper and lower thresholds for outlier detection\n",
    "    based on the mean and standard deviation.\n",
    "    \"\"\"\n",
    "    mean = series.mean()\n",
    "    std_dev = series.std()\n",
    "    top_threshold = mean + n_std * std_dev\n",
    "    bottom_threshold = mean - n_std * std_dev\n",
    "    return top_threshold, bottom_threshold\n",
    "\n",
    "# Copy the dataset to preserve the original\n",
    "data_copy = data.copy(deep=True)\n",
    "\n",
    "# Identify numeric variables\n",
    "numeric_vars = data.select_dtypes(include=['float64', 'int64']).columns.tolist()\n",
    "\n",
    "# Define the number of standard deviations for outlier detection\n",
    "n_std = 3\n",
    "\n",
    "# Drop records with outliers\n",
    "for var in numeric_vars:\n",
    "    top_threshold, bottom_threshold = determine_outlier_thresholds_for_var(data[var], n_std)\n",
    "    outliers = data_copy[(data_copy[var] > top_threshold) | (data_copy[var] < bottom_threshold)]\n",
    "    data_copy.drop(outliers.index, axis=0, inplace=True)\n",
    "\n",
    "# Save the cleaned dataset to a new file\n",
    "cleaned_file_path = '/Users/pascalludwig/Documents/Master/Semester 1/Term 2/Data Science/Project/DataScience/class_ny_arrests_no_outliers.csv'\n",
    "data_copy.to_csv(cleaned_file_path, index=True)\n",
    "\n",
    "# Display the shape of the new dataset\n",
    "print(f\"Original dataset shape: {data.shape}\")\n",
    "print(f\"Dataset shape after dropping outliers: {data_copy.shape}\")\n"
   ]
  },
  {
   "cell_type": "code",
   "execution_count": 3,
   "metadata": {},
   "outputs": [
    {
     "name": "stdout",
     "output_type": "stream",
     "text": [
      "Cleaned dataset with replaced outliers saved to: /Users/pascalludwig/Documents/Master/Semester 1/Term 2/Data Science/Project/DataScience/class_ny_arrests_replacing_outliers.csv\n",
      "              PD_CD         KY_CD  ARREST_PRECINCT  JURISDICTION_CODE  \\\n",
      "count  4.968567e+06  4.959742e+06     4.968684e+06       4.968674e+06   \n",
      "mean   4.879354e+02  2.499729e+02     6.081907e+01       2.388430e-01   \n",
      "std    2.584250e+02  9.966461e+01     3.416761e+01       8.484304e-01   \n",
      "min    0.000000e+00  1.010000e+02     1.000000e+00       0.000000e+00   \n",
      "25%    2.590000e+02  1.210000e+02     3.400000e+01       0.000000e+00   \n",
      "50%    5.030000e+02  2.360000e+02     5.200000e+01       0.000000e+00   \n",
      "75%    7.050000e+02  3.440000e+02     8.400000e+01       0.000000e+00   \n",
      "max    9.690000e+02  3.650000e+02     1.230000e+02       1.600000e+01   \n",
      "\n",
      "         X_COORD_CD    Y_COORD_CD      Latitude     Longitude  \n",
      "count  4.968683e+06  4.968683e+06  4.968683e+06  4.968683e+06  \n",
      "mean   1.006314e+06  2.099115e+05  4.074279e+01 -7.392034e+01  \n",
      "std    1.852015e+04  2.974397e+04  8.164551e-02  6.683979e-02  \n",
      "min    9.448580e+05  1.211310e+05  4.049891e+01 -7.414211e+01  \n",
      "25%    9.949930e+05  1.868430e+05  4.067944e+01 -7.396129e+01  \n",
      "50%    1.005041e+06  2.099080e+05  4.074283e+01 -7.392490e+01  \n",
      "75%    1.016029e+06  2.370450e+05  4.081728e+01 -7.388514e+01  \n",
      "max    1.065979e+06  2.726650e+05  4.091505e+01 -7.370504e+01  \n"
     ]
    }
   ],
   "source": [
    "import pandas as pd\n",
    "\n",
    "# Load the dataset\n",
    "file_path = '/Users/pascalludwig/Documents/Master/Semester 1/Term 2/Data Science/Project/DataScience/class_ny_arrests.csv'\n",
    "data = pd.read_csv(file_path, index_col=0, na_values=\"\")\n",
    "\n",
    "# Define a function to calculate outlier thresholds\n",
    "def determine_outlier_thresholds_for_var(series, n_std=3):\n",
    "    \"\"\"\n",
    "    Calculate the upper and lower thresholds for outlier detection\n",
    "    based on the mean and standard deviation.\n",
    "    \"\"\"\n",
    "    mean = series.mean()\n",
    "    std_dev = series.std()\n",
    "    top_threshold = mean + n_std * std_dev\n",
    "    bottom_threshold = mean - n_std * std_dev\n",
    "    return top_threshold, bottom_threshold\n",
    "\n",
    "# Identify numeric variables\n",
    "numeric_vars = data.select_dtypes(include=['float64', 'int64']).columns.tolist()\n",
    "\n",
    "# Replace outliers in numeric variables with the median value\n",
    "data_copy = data.copy(deep=True)\n",
    "for var in numeric_vars:\n",
    "    top_threshold, bottom_threshold = determine_outlier_thresholds_for_var(data[var], n_std=3)\n",
    "    median_value = data_copy[var].median()\n",
    "    # Replace outliers with the median value\n",
    "    data_copy[var] = data_copy[var].apply(lambda x: median_value if x > top_threshold or x < bottom_threshold else x)\n",
    "\n",
    "# Save the cleaned dataset to a new file\n",
    "replaced_file_path = '/Users/pascalludwig/Documents/Master/Semester 1/Term 2/Data Science/Project/DataScience/class_ny_arrests_replacing_outliers.csv'\n",
    "data_copy.to_csv(replaced_file_path, index=True)\n",
    "\n",
    "# Confirm successful operation and display dataset summary\n",
    "print(f\"Cleaned dataset with replaced outliers saved to: {replaced_file_path}\")\n",
    "print(data_copy.describe())\n"
   ]
  },
  {
   "cell_type": "code",
   "execution_count": 4,
   "metadata": {},
   "outputs": [
    {
     "name": "stderr",
     "output_type": "stream",
     "text": [
      "/Users/pascalludwig/opt/anaconda3/lib/python3.9/site-packages/numpy/lib/arraysetops.py:583: FutureWarning: elementwise comparison failed; returning scalar instead, but in the future will perform elementwise comparison\n",
      "  mask |= (ar1 == a)\n"
     ]
    },
    {
     "name": "stdout",
     "output_type": "stream",
     "text": [
      "Dataset with truncated outliers saved to: /Users/pascalludwig/Documents/Master/Semester 1/Term 2/Data Science/Project/DataScience/class_ny_arrests_truncate_outliers.csv\n",
      "Data after truncating outliers: (4968684, 17)\n",
      "              PD_CD         KY_CD  ARREST_PRECINCT  JURISDICTION_CODE  \\\n",
      "count  4.968567e+06  4.959742e+06     4.968684e+06       4.968674e+06   \n",
      "mean   4.879354e+02  2.656692e+02     6.081907e+01       6.279049e-01   \n",
      "std    2.584250e+02  1.297846e+02     3.416761e+01       3.485482e+00   \n",
      "min    0.000000e+00  1.010000e+02     1.000000e+00       0.000000e+00   \n",
      "25%    2.590000e+02  1.210000e+02     3.400000e+01       0.000000e+00   \n",
      "50%    5.030000e+02  2.360000e+02     5.200000e+01       0.000000e+00   \n",
      "75%    7.050000e+02  3.470000e+02     8.400000e+01       0.000000e+00   \n",
      "max    9.690000e+02  7.199363e+02     1.230000e+02       3.024188e+01   \n",
      "\n",
      "         X_COORD_CD    Y_COORD_CD      Latitude     Longitude  \n",
      "count  4.968683e+06  4.968683e+06  4.968683e+06  4.968683e+06  \n",
      "mean   1.005554e+06  2.105738e+05  4.074459e+01 -7.392307e+01  \n",
      "std    1.976036e+04  3.471967e+04  9.492738e-02  7.132726e-02  \n",
      "min    9.448563e+05  1.211310e+05  4.049891e+01 -7.414211e+01  \n",
      "25%    9.937700e+05  1.868430e+05  4.067944e+01 -7.396566e+01  \n",
      "50%    1.005041e+06  2.099080e+05  4.074283e+01 -7.392490e+01  \n",
      "75%    1.016031e+06  2.372030e+05  4.081773e+01 -7.388513e+01  \n",
      "max    1.066004e+06  6.948591e+05  4.205409e+01 -7.370490e+01  \n"
     ]
    }
   ],
   "source": [
    "import pandas as pd\n",
    "\n",
    "# Load the dataset\n",
    "file_path = '/Users/pascalludwig/Documents/Master/Semester 1/Term 2/Data Science/Project/DataScience/class_ny_arrests.csv'\n",
    "data = pd.read_csv(file_path, index_col=0, na_values=\"\")\n",
    "\n",
    "# Define a function to calculate outlier thresholds\n",
    "def determine_outlier_thresholds_for_var(series, n_std=3):\n",
    "    \"\"\"\n",
    "    Calculate the upper and lower thresholds for outlier detection\n",
    "    based on the mean and standard deviation.\n",
    "    \"\"\"\n",
    "    mean = series.mean()\n",
    "    std_dev = series.std()\n",
    "    top_threshold = mean + n_std * std_dev\n",
    "    bottom_threshold = mean - n_std * std_dev\n",
    "    return top_threshold, bottom_threshold\n",
    "\n",
    "# Identify numeric variables\n",
    "numeric_vars = data.select_dtypes(include=['float64', 'int64']).columns.tolist()\n",
    "\n",
    "# Proceed only if there are numeric variables\n",
    "if [] != numeric_vars:\n",
    "    data_copy = data.copy(deep=True)  # Create a copy of the original dataset\n",
    "    for var in numeric_vars:\n",
    "        # Calculate outlier thresholds\n",
    "        top_threshold, bottom_threshold = determine_outlier_thresholds_for_var(data[var], n_std=3)\n",
    "        # Truncate values to the thresholds\n",
    "        data_copy[var] = data_copy[var].apply(\n",
    "            lambda x: top_threshold if x > top_threshold else bottom_threshold if x < bottom_threshold else x\n",
    "        )\n",
    "\n",
    "    # Save the truncated dataset to a new file\n",
    "    truncated_file_path = '/Users/pascalludwig/Documents/Master/Semester 1/Term 2/Data Science/Project/DataScience/class_ny_arrests_truncate_outliers.csv'\n",
    "    data_copy.to_csv(truncated_file_path, index=True)\n",
    "\n",
    "    # Display dataset info\n",
    "    print(f\"Dataset with truncated outliers saved to: {truncated_file_path}\")\n",
    "    print(\"Data after truncating outliers:\", data_copy.shape)\n",
    "    print(data_copy.describe())\n",
    "else:\n",
    "    print(\"There are no numeric variables\")\n"
   ]
  }
 ],
 "metadata": {
  "kernelspec": {
   "display_name": "Python 3.9.7 ('base')",
   "language": "python",
   "name": "python3"
  },
  "language_info": {
   "codemirror_mode": {
    "name": "ipython",
    "version": 3
   },
   "file_extension": ".py",
   "mimetype": "text/x-python",
   "name": "python",
   "nbconvert_exporter": "python",
   "pygments_lexer": "ipython3",
   "version": "3.9.7"
  },
  "orig_nbformat": 4,
  "vscode": {
   "interpreter": {
    "hash": "1d04ba8e0f5ddc36f4cd1d0cc2c46f1313e2ec8fcd0fb4091e0fb1ef5256067f"
   }
  }
 },
 "nbformat": 4,
 "nbformat_minor": 2
}
