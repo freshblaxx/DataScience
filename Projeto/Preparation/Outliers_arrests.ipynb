{
 "cells": [
  {
   "cell_type": "code",
   "execution_count": 8,
   "metadata": {},
   "outputs": [],
   "source": [
    "import pandas as pd\n",
    "\n",
    "# Load the dataset\n",
    "file_path = 'new_class_ny_arrests.csv'\n",
    "data = pd.read_csv(file_path, index_col=0, na_values=\"\")\n",
    "\n"
   ]
  },
  {
   "cell_type": "code",
   "execution_count": 9,
   "metadata": {},
   "outputs": [],
   "source": [
    "# Define a function to calculate outlier thresholds\n",
    "def determine_outlier_thresholds_for_var(series, n_std=3):\n",
    "    \"\"\"\n",
    "    Calculate the upper and lower thresholds for outlier detection\n",
    "    based on the mean and standard deviation.\n",
    "    \"\"\"\n",
    "    mean = series.mean()\n",
    "    std_dev = series.std()\n",
    "    top_threshold = mean + n_std * std_dev\n",
    "    bottom_threshold = mean - n_std * std_dev\n",
    "    return top_threshold, bottom_threshold\n"
   ]
  },
  {
   "cell_type": "code",
   "execution_count": 10,
   "metadata": {},
   "outputs": [],
   "source": [
    "# Copy the dataset to preserve the original\n",
    "data_copy = data.copy(deep=True)\n",
    "\n",
    "\n",
    "\n",
    "# Define the number of standard deviations for outlier detection\n",
    "n_std = 3\n",
    "\n",
    "\n"
   ]
  },
  {
   "cell_type": "code",
   "execution_count": 11,
   "metadata": {},
   "outputs": [],
   "source": [
    "# Drop records with outliers\n",
    "for var in data_copy.columns:\n",
    "    top_threshold, bottom_threshold = determine_outlier_thresholds_for_var(data_copy[var], n_std)\n",
    "    median_value = data_copy[var].median()\n",
    "    data_copy[var] = data_copy[var].apply(lambda x: median_value if x > top_threshold or x < bottom_threshold else x)\n"
   ]
  },
  {
   "cell_type": "code",
   "execution_count": 12,
   "metadata": {},
   "outputs": [],
   "source": [
    "# Save the cleaned dataset to a new file\n",
    "cleaned_file_path = 'class_ny_arrests_cleaned_outliers.csv'\n",
    "data_copy.to_csv(cleaned_file_path, index=True)\n",
    "\n"
   ]
  },
  {
   "cell_type": "code",
   "execution_count": 13,
   "metadata": {},
   "outputs": [
    {
     "name": "stdout",
     "output_type": "stream",
     "text": [
      "Original dataset shape: (4968684, 18)\n",
      "Dataset shape after dropping outliers: (4968684, 18)\n"
     ]
    }
   ],
   "source": [
    "# Display the shape of the new dataset\n",
    "print(f\"Original dataset shape: {data.shape}\")\n",
    "print(f\"Dataset shape after dropping outliers: {data_copy.shape}\")"
   ]
  },
  {
   "cell_type": "code",
   "execution_count": null,
   "metadata": {},
   "outputs": [
    {
     "ename": "FileNotFoundError",
     "evalue": "[Errno 2] No such file or directory: '/Users/pascalludwig/Documents/Master/Semester 1/Term 2/Data Science/Project/DataScience/class_ny_arrests.csv'",
     "output_type": "error",
     "traceback": [
      "\u001b[0;31m---------------------------------------------------------------------------\u001b[0m",
      "\u001b[0;31mFileNotFoundError\u001b[0m                         Traceback (most recent call last)",
      "Cell \u001b[0;32mIn[14], line 5\u001b[0m\n\u001b[1;32m      3\u001b[0m \u001b[38;5;66;03m# Load the dataset\u001b[39;00m\n\u001b[1;32m      4\u001b[0m file_path \u001b[38;5;241m=\u001b[39m \u001b[38;5;124m'\u001b[39m\u001b[38;5;124m/Users/pascalludwig/Documents/Master/Semester 1/Term 2/Data Science/Project/DataScience/class_ny_arrests.csv\u001b[39m\u001b[38;5;124m'\u001b[39m\n\u001b[0;32m----> 5\u001b[0m data \u001b[38;5;241m=\u001b[39m pd\u001b[38;5;241m.\u001b[39mread_csv(file_path, index_col\u001b[38;5;241m=\u001b[39m\u001b[38;5;241m0\u001b[39m, na_values\u001b[38;5;241m=\u001b[39m\u001b[38;5;124m\"\u001b[39m\u001b[38;5;124m\"\u001b[39m)\n\u001b[1;32m      7\u001b[0m \u001b[38;5;66;03m# Define a function to calculate outlier thresholds\u001b[39;00m\n\u001b[1;32m      8\u001b[0m \u001b[38;5;28;01mdef\u001b[39;00m \u001b[38;5;21mdetermine_outlier_thresholds_for_var\u001b[39m(series, n_std\u001b[38;5;241m=\u001b[39m\u001b[38;5;241m3\u001b[39m):\n",
      "File \u001b[0;32m/opt/anaconda3/lib/python3.12/site-packages/pandas/io/parsers/readers.py:1026\u001b[0m, in \u001b[0;36mread_csv\u001b[0;34m(filepath_or_buffer, sep, delimiter, header, names, index_col, usecols, dtype, engine, converters, true_values, false_values, skipinitialspace, skiprows, skipfooter, nrows, na_values, keep_default_na, na_filter, verbose, skip_blank_lines, parse_dates, infer_datetime_format, keep_date_col, date_parser, date_format, dayfirst, cache_dates, iterator, chunksize, compression, thousands, decimal, lineterminator, quotechar, quoting, doublequote, escapechar, comment, encoding, encoding_errors, dialect, on_bad_lines, delim_whitespace, low_memory, memory_map, float_precision, storage_options, dtype_backend)\u001b[0m\n\u001b[1;32m   1013\u001b[0m kwds_defaults \u001b[38;5;241m=\u001b[39m _refine_defaults_read(\n\u001b[1;32m   1014\u001b[0m     dialect,\n\u001b[1;32m   1015\u001b[0m     delimiter,\n\u001b[0;32m   (...)\u001b[0m\n\u001b[1;32m   1022\u001b[0m     dtype_backend\u001b[38;5;241m=\u001b[39mdtype_backend,\n\u001b[1;32m   1023\u001b[0m )\n\u001b[1;32m   1024\u001b[0m kwds\u001b[38;5;241m.\u001b[39mupdate(kwds_defaults)\n\u001b[0;32m-> 1026\u001b[0m \u001b[38;5;28;01mreturn\u001b[39;00m _read(filepath_or_buffer, kwds)\n",
      "File \u001b[0;32m/opt/anaconda3/lib/python3.12/site-packages/pandas/io/parsers/readers.py:620\u001b[0m, in \u001b[0;36m_read\u001b[0;34m(filepath_or_buffer, kwds)\u001b[0m\n\u001b[1;32m    617\u001b[0m _validate_names(kwds\u001b[38;5;241m.\u001b[39mget(\u001b[38;5;124m\"\u001b[39m\u001b[38;5;124mnames\u001b[39m\u001b[38;5;124m\"\u001b[39m, \u001b[38;5;28;01mNone\u001b[39;00m))\n\u001b[1;32m    619\u001b[0m \u001b[38;5;66;03m# Create the parser.\u001b[39;00m\n\u001b[0;32m--> 620\u001b[0m parser \u001b[38;5;241m=\u001b[39m TextFileReader(filepath_or_buffer, \u001b[38;5;241m*\u001b[39m\u001b[38;5;241m*\u001b[39mkwds)\n\u001b[1;32m    622\u001b[0m \u001b[38;5;28;01mif\u001b[39;00m chunksize \u001b[38;5;129;01mor\u001b[39;00m iterator:\n\u001b[1;32m    623\u001b[0m     \u001b[38;5;28;01mreturn\u001b[39;00m parser\n",
      "File \u001b[0;32m/opt/anaconda3/lib/python3.12/site-packages/pandas/io/parsers/readers.py:1620\u001b[0m, in \u001b[0;36mTextFileReader.__init__\u001b[0;34m(self, f, engine, **kwds)\u001b[0m\n\u001b[1;32m   1617\u001b[0m     \u001b[38;5;28mself\u001b[39m\u001b[38;5;241m.\u001b[39moptions[\u001b[38;5;124m\"\u001b[39m\u001b[38;5;124mhas_index_names\u001b[39m\u001b[38;5;124m\"\u001b[39m] \u001b[38;5;241m=\u001b[39m kwds[\u001b[38;5;124m\"\u001b[39m\u001b[38;5;124mhas_index_names\u001b[39m\u001b[38;5;124m\"\u001b[39m]\n\u001b[1;32m   1619\u001b[0m \u001b[38;5;28mself\u001b[39m\u001b[38;5;241m.\u001b[39mhandles: IOHandles \u001b[38;5;241m|\u001b[39m \u001b[38;5;28;01mNone\u001b[39;00m \u001b[38;5;241m=\u001b[39m \u001b[38;5;28;01mNone\u001b[39;00m\n\u001b[0;32m-> 1620\u001b[0m \u001b[38;5;28mself\u001b[39m\u001b[38;5;241m.\u001b[39m_engine \u001b[38;5;241m=\u001b[39m \u001b[38;5;28mself\u001b[39m\u001b[38;5;241m.\u001b[39m_make_engine(f, \u001b[38;5;28mself\u001b[39m\u001b[38;5;241m.\u001b[39mengine)\n",
      "File \u001b[0;32m/opt/anaconda3/lib/python3.12/site-packages/pandas/io/parsers/readers.py:1880\u001b[0m, in \u001b[0;36mTextFileReader._make_engine\u001b[0;34m(self, f, engine)\u001b[0m\n\u001b[1;32m   1878\u001b[0m     \u001b[38;5;28;01mif\u001b[39;00m \u001b[38;5;124m\"\u001b[39m\u001b[38;5;124mb\u001b[39m\u001b[38;5;124m\"\u001b[39m \u001b[38;5;129;01mnot\u001b[39;00m \u001b[38;5;129;01min\u001b[39;00m mode:\n\u001b[1;32m   1879\u001b[0m         mode \u001b[38;5;241m+\u001b[39m\u001b[38;5;241m=\u001b[39m \u001b[38;5;124m\"\u001b[39m\u001b[38;5;124mb\u001b[39m\u001b[38;5;124m\"\u001b[39m\n\u001b[0;32m-> 1880\u001b[0m \u001b[38;5;28mself\u001b[39m\u001b[38;5;241m.\u001b[39mhandles \u001b[38;5;241m=\u001b[39m get_handle(\n\u001b[1;32m   1881\u001b[0m     f,\n\u001b[1;32m   1882\u001b[0m     mode,\n\u001b[1;32m   1883\u001b[0m     encoding\u001b[38;5;241m=\u001b[39m\u001b[38;5;28mself\u001b[39m\u001b[38;5;241m.\u001b[39moptions\u001b[38;5;241m.\u001b[39mget(\u001b[38;5;124m\"\u001b[39m\u001b[38;5;124mencoding\u001b[39m\u001b[38;5;124m\"\u001b[39m, \u001b[38;5;28;01mNone\u001b[39;00m),\n\u001b[1;32m   1884\u001b[0m     compression\u001b[38;5;241m=\u001b[39m\u001b[38;5;28mself\u001b[39m\u001b[38;5;241m.\u001b[39moptions\u001b[38;5;241m.\u001b[39mget(\u001b[38;5;124m\"\u001b[39m\u001b[38;5;124mcompression\u001b[39m\u001b[38;5;124m\"\u001b[39m, \u001b[38;5;28;01mNone\u001b[39;00m),\n\u001b[1;32m   1885\u001b[0m     memory_map\u001b[38;5;241m=\u001b[39m\u001b[38;5;28mself\u001b[39m\u001b[38;5;241m.\u001b[39moptions\u001b[38;5;241m.\u001b[39mget(\u001b[38;5;124m\"\u001b[39m\u001b[38;5;124mmemory_map\u001b[39m\u001b[38;5;124m\"\u001b[39m, \u001b[38;5;28;01mFalse\u001b[39;00m),\n\u001b[1;32m   1886\u001b[0m     is_text\u001b[38;5;241m=\u001b[39mis_text,\n\u001b[1;32m   1887\u001b[0m     errors\u001b[38;5;241m=\u001b[39m\u001b[38;5;28mself\u001b[39m\u001b[38;5;241m.\u001b[39moptions\u001b[38;5;241m.\u001b[39mget(\u001b[38;5;124m\"\u001b[39m\u001b[38;5;124mencoding_errors\u001b[39m\u001b[38;5;124m\"\u001b[39m, \u001b[38;5;124m\"\u001b[39m\u001b[38;5;124mstrict\u001b[39m\u001b[38;5;124m\"\u001b[39m),\n\u001b[1;32m   1888\u001b[0m     storage_options\u001b[38;5;241m=\u001b[39m\u001b[38;5;28mself\u001b[39m\u001b[38;5;241m.\u001b[39moptions\u001b[38;5;241m.\u001b[39mget(\u001b[38;5;124m\"\u001b[39m\u001b[38;5;124mstorage_options\u001b[39m\u001b[38;5;124m\"\u001b[39m, \u001b[38;5;28;01mNone\u001b[39;00m),\n\u001b[1;32m   1889\u001b[0m )\n\u001b[1;32m   1890\u001b[0m \u001b[38;5;28;01massert\u001b[39;00m \u001b[38;5;28mself\u001b[39m\u001b[38;5;241m.\u001b[39mhandles \u001b[38;5;129;01mis\u001b[39;00m \u001b[38;5;129;01mnot\u001b[39;00m \u001b[38;5;28;01mNone\u001b[39;00m\n\u001b[1;32m   1891\u001b[0m f \u001b[38;5;241m=\u001b[39m \u001b[38;5;28mself\u001b[39m\u001b[38;5;241m.\u001b[39mhandles\u001b[38;5;241m.\u001b[39mhandle\n",
      "File \u001b[0;32m/opt/anaconda3/lib/python3.12/site-packages/pandas/io/common.py:873\u001b[0m, in \u001b[0;36mget_handle\u001b[0;34m(path_or_buf, mode, encoding, compression, memory_map, is_text, errors, storage_options)\u001b[0m\n\u001b[1;32m    868\u001b[0m \u001b[38;5;28;01melif\u001b[39;00m \u001b[38;5;28misinstance\u001b[39m(handle, \u001b[38;5;28mstr\u001b[39m):\n\u001b[1;32m    869\u001b[0m     \u001b[38;5;66;03m# Check whether the filename is to be opened in binary mode.\u001b[39;00m\n\u001b[1;32m    870\u001b[0m     \u001b[38;5;66;03m# Binary mode does not support 'encoding' and 'newline'.\u001b[39;00m\n\u001b[1;32m    871\u001b[0m     \u001b[38;5;28;01mif\u001b[39;00m ioargs\u001b[38;5;241m.\u001b[39mencoding \u001b[38;5;129;01mand\u001b[39;00m \u001b[38;5;124m\"\u001b[39m\u001b[38;5;124mb\u001b[39m\u001b[38;5;124m\"\u001b[39m \u001b[38;5;129;01mnot\u001b[39;00m \u001b[38;5;129;01min\u001b[39;00m ioargs\u001b[38;5;241m.\u001b[39mmode:\n\u001b[1;32m    872\u001b[0m         \u001b[38;5;66;03m# Encoding\u001b[39;00m\n\u001b[0;32m--> 873\u001b[0m         handle \u001b[38;5;241m=\u001b[39m \u001b[38;5;28mopen\u001b[39m(\n\u001b[1;32m    874\u001b[0m             handle,\n\u001b[1;32m    875\u001b[0m             ioargs\u001b[38;5;241m.\u001b[39mmode,\n\u001b[1;32m    876\u001b[0m             encoding\u001b[38;5;241m=\u001b[39mioargs\u001b[38;5;241m.\u001b[39mencoding,\n\u001b[1;32m    877\u001b[0m             errors\u001b[38;5;241m=\u001b[39merrors,\n\u001b[1;32m    878\u001b[0m             newline\u001b[38;5;241m=\u001b[39m\u001b[38;5;124m\"\u001b[39m\u001b[38;5;124m\"\u001b[39m,\n\u001b[1;32m    879\u001b[0m         )\n\u001b[1;32m    880\u001b[0m     \u001b[38;5;28;01melse\u001b[39;00m:\n\u001b[1;32m    881\u001b[0m         \u001b[38;5;66;03m# Binary mode\u001b[39;00m\n\u001b[1;32m    882\u001b[0m         handle \u001b[38;5;241m=\u001b[39m \u001b[38;5;28mopen\u001b[39m(handle, ioargs\u001b[38;5;241m.\u001b[39mmode)\n",
      "\u001b[0;31mFileNotFoundError\u001b[0m: [Errno 2] No such file or directory: '/Users/pascalludwig/Documents/Master/Semester 1/Term 2/Data Science/Project/DataScience/class_ny_arrests.csv'"
     ]
    }
   ],
   "source": [
    "\n",
    "import pandas as pd\n",
    "\n",
    "# Load the dataset\n",
    "file_path = '/Users/pascalludwig/Documents/Master/Semester 1/Term 2/Data Science/Project/DataScience/class_ny_arrests.csv'\n",
    "data = pd.read_csv(file_path, index_col=0, na_values=\"\")\n",
    "\n",
    "# Define a function to calculate outlier thresholds\n",
    "def determine_outlier_thresholds_for_var(series, n_std=3):\n",
    "    \"\"\"\n",
    "    Calculate the upper and lower thresholds for outlier detection\n",
    "    based on the mean and standard deviation.\n",
    "    \"\"\"\n",
    "    mean = series.mean()\n",
    "    std_dev = series.std()\n",
    "    top_threshold = mean + n_std * std_dev\n",
    "    bottom_threshold = mean - n_std * std_dev\n",
    "    return top_threshold, bottom_threshold\n",
    "\n",
    "# Identify numeric variables\n",
    "numeric_vars = data.select_dtypes(include=['float64', 'int64']).columns.tolist()\n",
    "\n",
    "# Replace outliers in numeric variables with the median value\n",
    "data_copy = data.copy(deep=True)\n",
    "for var in numeric_vars:\n",
    "    top_threshold, bottom_threshold = determine_outlier_thresholds_for_var(data[var], n_std=3)\n",
    "    median_value = data_copy[var].median()\n",
    "    # Replace outliers with the median value\n",
    "    data_copy[var] = data_copy[var].apply(lambda x: median_value if x > top_threshold or x < bottom_threshold else x)\n",
    "\n",
    "# Save the cleaned dataset to a new file\n",
    "replaced_file_path = '/Users/pascalludwig/Documents/Master/Semester 1/Term 2/Data Science/Project/DataScience/class_ny_arrests_replacing_outliers.csv'\n",
    "data_copy.to_csv(replaced_file_path, index=True)\n",
    "\n",
    "# Confirm successful operation and display dataset summary\n",
    "print(f\"Cleaned dataset with replaced outliers saved to: {replaced_file_path}\")\n",
    "print(data_copy.describe())\n"
   ]
  },
  {
   "cell_type": "code",
   "execution_count": null,
   "metadata": {},
   "outputs": [
    {
     "name": "stderr",
     "output_type": "stream",
     "text": [
      "/Users/pascalludwig/opt/anaconda3/lib/python3.9/site-packages/numpy/lib/arraysetops.py:583: FutureWarning: elementwise comparison failed; returning scalar instead, but in the future will perform elementwise comparison\n",
      "  mask |= (ar1 == a)\n"
     ]
    },
    {
     "name": "stdout",
     "output_type": "stream",
     "text": [
      "Dataset with truncated outliers saved to: /Users/pascalludwig/Documents/Master/Semester 1/Term 2/Data Science/Project/DataScience/class_ny_arrests_truncate_outliers.csv\n",
      "Data after truncating outliers: (4968684, 17)\n",
      "              PD_CD         KY_CD  ARREST_PRECINCT  JURISDICTION_CODE  \\\n",
      "count  4.968567e+06  4.959742e+06     4.968684e+06       4.968674e+06   \n",
      "mean   4.879354e+02  2.656692e+02     6.081907e+01       6.279049e-01   \n",
      "std    2.584250e+02  1.297846e+02     3.416761e+01       3.485482e+00   \n",
      "min    0.000000e+00  1.010000e+02     1.000000e+00       0.000000e+00   \n",
      "25%    2.590000e+02  1.210000e+02     3.400000e+01       0.000000e+00   \n",
      "50%    5.030000e+02  2.360000e+02     5.200000e+01       0.000000e+00   \n",
      "75%    7.050000e+02  3.470000e+02     8.400000e+01       0.000000e+00   \n",
      "max    9.690000e+02  7.199363e+02     1.230000e+02       3.024188e+01   \n",
      "\n",
      "         X_COORD_CD    Y_COORD_CD      Latitude     Longitude  \n",
      "count  4.968683e+06  4.968683e+06  4.968683e+06  4.968683e+06  \n",
      "mean   1.005554e+06  2.105738e+05  4.074459e+01 -7.392307e+01  \n",
      "std    1.976036e+04  3.471967e+04  9.492738e-02  7.132726e-02  \n",
      "min    9.448563e+05  1.211310e+05  4.049891e+01 -7.414211e+01  \n",
      "25%    9.937700e+05  1.868430e+05  4.067944e+01 -7.396566e+01  \n",
      "50%    1.005041e+06  2.099080e+05  4.074283e+01 -7.392490e+01  \n",
      "75%    1.016031e+06  2.372030e+05  4.081773e+01 -7.388513e+01  \n",
      "max    1.066004e+06  6.948591e+05  4.205409e+01 -7.370490e+01  \n"
     ]
    }
   ],
   "source": [
    "import pandas as pd\n",
    "\n",
    "# Load the dataset\n",
    "file_path = '/Users/pascalludwig/Documents/Master/Semester 1/Term 2/Data Science/Project/DataScience/class_ny_arrests.csv'\n",
    "data = pd.read_csv(file_path, index_col=0, na_values=\"\")\n",
    "\n",
    "# Define a function to calculate outlier thresholds\n",
    "def determine_outlier_thresholds_for_var(series, n_std=3):\n",
    "    \"\"\"\n",
    "    Calculate the upper and lower thresholds for outlier detection\n",
    "    based on the mean and standard deviation.\n",
    "    \"\"\"\n",
    "    mean = series.mean()\n",
    "    std_dev = series.std()\n",
    "    top_threshold = mean + n_std * std_dev\n",
    "    bottom_threshold = mean - n_std * std_dev\n",
    "    return top_threshold, bottom_threshold\n",
    "\n",
    "# Identify numeric variables\n",
    "numeric_vars = data.select_dtypes(include=['float64', 'int64']).columns.tolist()\n",
    "\n",
    "# Proceed only if there are numeric variables\n",
    "if [] != numeric_vars:\n",
    "    data_copy = data.copy(deep=True)  # Create a copy of the original dataset\n",
    "    for var in numeric_vars:\n",
    "        # Calculate outlier thresholds\n",
    "        top_threshold, bottom_threshold = determine_outlier_thresholds_for_var(data[var], n_std=3)\n",
    "        # Truncate values to the thresholds\n",
    "        data_copy[var] = data_copy[var].apply(\n",
    "            lambda x: top_threshold if x > top_threshold else bottom_threshold if x < bottom_threshold else x\n",
    "        )\n",
    "\n",
    "    # Save the truncated dataset to a new file\n",
    "    truncated_file_path = '/Users/pascalludwig/Documents/Master/Semester 1/Term 2/Data Science/Project/DataScience/class_ny_arrests_truncate_outliers.csv'\n",
    "    data_copy.to_csv(truncated_file_path, index=True)\n",
    "\n",
    "    # Display dataset info\n",
    "    print(f\"Dataset with truncated outliers saved to: {truncated_file_path}\")\n",
    "    print(\"Data after truncating outliers:\", data_copy.shape)\n",
    "    print(data_copy.describe())\n",
    "else:\n",
    "    print(\"There are no numeric variables\")\n"
   ]
  }
 ],
 "metadata": {
  "kernelspec": {
   "display_name": "base",
   "language": "python",
   "name": "python3"
  },
  "language_info": {
   "codemirror_mode": {
    "name": "ipython",
    "version": 3
   },
   "file_extension": ".py",
   "mimetype": "text/x-python",
   "name": "python",
   "nbconvert_exporter": "python",
   "pygments_lexer": "ipython3",
   "version": "3.12.7"
  },
  "orig_nbformat": 4
 },
 "nbformat": 4,
 "nbformat_minor": 2
}
