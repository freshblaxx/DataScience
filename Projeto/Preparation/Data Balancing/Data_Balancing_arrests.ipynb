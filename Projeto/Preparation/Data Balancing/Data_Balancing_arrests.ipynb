{
 "cells": [
  {
   "cell_type": "code",
   "execution_count": 14,
   "metadata": {},
   "outputs": [
    {
     "name": "stdout",
     "output_type": "stream",
     "text": [
      "Minority class= True : 144\n",
      "Majority class= False : 6045\n",
      "Proportion: 0.02 : 1\n"
     ]
    },
    {
     "data": {
      "image/png": "[encoded data removed]",
      "text/plain": [
       "<Figure size 1000x600 with 1 Axes>"
      ]
     },
     "metadata": {},
     "output_type": "display_data"
    }
   ],
   "source": [
    "import pandas as pd\n",
    "from pandas import read_csv, concat, DataFrame, Series\n",
    "from matplotlib.pyplot import figure, show, gca\n",
    "from matplotlib.axes import Axes\n",
    "from matplotlib.container import BarContainer\n",
    "from matplotlib import rcParams\n",
    "\n",
    "\n",
    "\n",
    "# Load the dataset\n",
    "file_path = '/Users/tomifemme/Desktop/DataScience/Projeto/Preparation/Data Balancing/Arrests_training_data.csv'  # Replace with your file path\n",
    "data = pd.read_csv(file_path)\n",
    "\n",
    "# Define some constants for visual styling\n",
    "LINE_COLOR = \"black\"\n",
    "FILL_COLOR = \"skyblue\"\n",
    "FONT_TEXT = rcParams['font.size']\n",
    "\n",
    "def set_chart_labels(ax: Axes, title: str, xlabel: str, ylabel: str) -> Axes:\n",
    "    ax.set_title(title)\n",
    "    ax.set_xlabel(xlabel)\n",
    "    ax.set_ylabel(ylabel)\n",
    "    return ax\n",
    "\n",
    "def set_chart_xticks(xvalues: list, ax: Axes, percentage: bool = False) -> Axes:\n",
    "    labels = [f\"{x:.0%}\" if percentage else f\"{x}\" for x in xvalues]\n",
    "    ax.set_xticks(range(len(xvalues)))\n",
    "    ax.set_xticklabels(labels, rotation=45)\n",
    "    return ax\n",
    "\n",
    "def plot_bar_chart(\n",
    "    xvalues: list,\n",
    "    yvalues: list,\n",
    "    ax: Axes = None,  # type: ignore\n",
    "    title: str = \"\",\n",
    "    xlabel: str = \"\",\n",
    "    ylabel: str = \"\",\n",
    "    percentage: bool = False,\n",
    ") -> Axes:\n",
    "    if ax is None:\n",
    "        ax = gca()\n",
    "    ax = set_chart_labels(ax=ax, title=title, xlabel=xlabel, ylabel=ylabel)\n",
    "    ax = set_chart_xticks(xvalues, ax=ax, percentage=percentage)\n",
    "    values: BarContainer = ax.bar(\n",
    "        xvalues,\n",
    "        yvalues,\n",
    "        edgecolor=LINE_COLOR,\n",
    "        color=FILL_COLOR\n",
    "    )\n",
    "    format_str = \"%.2f\" if percentage else \"%.0f\"\n",
    "    ax.bar_label(values, fmt=format_str)\n",
    "\n",
    "    return ax\n",
    "\n",
    "target = 'CLASS'\n",
    "class_counts = data[target].value_counts()\n",
    "\n",
    "# Display class information\n",
    "minority_class = class_counts.idxmin()\n",
    "majority_class = class_counts.idxmax()\n",
    "\n",
    "print(\"Minority class=\", minority_class, \":\", class_counts[minority_class])\n",
    "print(\"Majority class=\", majority_class, \":\", class_counts[majority_class])\n",
    "print(\n",
    "    \"Proportion:\",\n",
    "    round(class_counts[minority_class] / class_counts[majority_class], 2),\n",
    "    \": 1\",\n",
    ")\n",
    "\n",
    "# Plotting the bar chart\n",
    "fig = figure(figsize=(10, 6))\n",
    "ax = fig.add_subplot(111)\n",
    "plot_bar_chart(\n",
    "    xvalues=class_counts.index.tolist(),\n",
    "    yvalues=class_counts.values.tolist(),\n",
    "    ax=ax,\n",
    "    title=\"Distribution of CLASS\",\n",
    "    xlabel=\"CLASS\",\n",
    "    ylabel=\"Frequency\"\n",
    ")\n",
    "\n",
    "show()\n"
   ]
  },
  {
   "cell_type": "code",
   "execution_count": 15,
   "metadata": {},
   "outputs": [
    {
     "name": "stdout",
     "output_type": "stream",
     "text": [
      "Number of rows in the positive class (True): 144\n",
      "Number of rows in the negative class (False): 6045\n"
     ]
    }
   ],
   "source": [
    "# Split the dataset into two subdatasets: one for each class\n",
    "df_positives = data[data[target] == minority_class]\n",
    "df_negatives = data[data[target] == majority_class]\n",
    "\n",
    "# Display the size of each subset\n",
    "print(f\"Number of rows in the positive class ({minority_class}): {len(df_positives)}\")\n",
    "print(f\"Number of rows in the negative class ({majority_class}): {len(df_negatives)}\")\n",
    "\n",
    "# Optionally, save the subsets for further exploration\n",
    "df_positives.to_csv(\"positive_class_arrests.csv\", index=False)\n",
    "df_negatives.to_csv(\"negative_class_arrests.csv\", index=False)\n",
    "\n",
    "# Sampling example: Adjust the number of rows in the positive class to balance the dataset\n",
    "# Uncomment below to sample as needed\n",
    "# sampled_positives = df_positives.sample(n=len(df_negatives), random_state=42)\n",
    "# balanced_dataset = pd.concat([sampled_positives, df_negatives], axis=0)\n",
    "\n",
    "# Save the balanced dataset for further exploration\n",
    "# balanced_dataset.to_csv(\"balanced_dataset.csv\", index=False)\n"
   ]
  },
  {
   "cell_type": "markdown",
   "metadata": {},
   "source": [
    "## Undersampling"
   ]
  },
  {
   "cell_type": "code",
   "execution_count": 16,
   "metadata": {},
   "outputs": [
    {
     "name": "stdout",
     "output_type": "stream",
     "text": [
      "Minority class= True : 144\n",
      "Majority class= False : 144\n",
      "Proportion: 1.0 : 1\n"
     ]
    }
   ],
   "source": [
    "# Perform undersampling on the majority class\n",
    "df_neg_sample: DataFrame = DataFrame(df_negatives.sample(len(df_positives), random_state=42))\n",
    "\n",
    "# Combine the minority class and sampled majority class to create a balanced dataset\n",
    "df_under: DataFrame = concat([df_positives, df_neg_sample], axis=0)\n",
    "\n",
    "# Save the undersampled dataset\n",
    "df_under.to_csv(\"class_ny_arrest_under.csv\", index=False)\n",
    "\n",
    "# Display class proportions in the undersampled dataset\n",
    "print(\"Minority class=\", minority_class, \":\", len(df_positives))\n",
    "print(\"Majority class=\", majority_class, \":\", len(df_neg_sample))\n",
    "print(\"Proportion:\", round(len(df_positives) / len(df_neg_sample), 2), \": 1\")\n",
    "\n"
   ]
  },
  {
   "cell_type": "markdown",
   "metadata": {},
   "source": [
    "## Oversampling"
   ]
  },
  {
   "cell_type": "code",
   "execution_count": 17,
   "metadata": {},
   "outputs": [
    {
     "name": "stdout",
     "output_type": "stream",
     "text": [
      "Minority class= True : 6045\n",
      "Majority class= False : 6045\n",
      "Proportion: 1.0 : 1\n"
     ]
    }
   ],
   "source": [
    "# Perform oversampling on the minority class\n",
    "df_pos_sample: DataFrame = DataFrame(df_positives.sample(len(df_negatives), replace=True, random_state=42))\n",
    "\n",
    "# Combine the oversampled minority class and the majority class to create a balanced dataset\n",
    "df_over: DataFrame = concat([df_pos_sample, df_negatives], axis=0)\n",
    "\n",
    "# Save the oversampled dataset\n",
    "df_over.to_csv(\"class_arrests_over.csv\", index=False)\n",
    "\n",
    "# Display class proportions in the oversampled dataset\n",
    "print(\"Minority class=\", minority_class, \":\", len(df_pos_sample))\n",
    "print(\"Majority class=\", majority_class, \":\", len(df_negatives))\n",
    "print(\"Proportion:\", round(len(df_pos_sample) / len(df_negatives), 2), \": 1\")\n"
   ]
  },
  {
   "cell_type": "markdown",
   "metadata": {},
   "source": [
    "### SMOTE"
   ]
  },
  {
   "cell_type": "code",
   "execution_count": 18,
   "metadata": {},
   "outputs": [
    {
     "name": "stdout",
     "output_type": "stream",
     "text": [
      "Minority class= False : 6045\n",
      "Majority class= False : 6045\n",
      "Proportion: 1.0 : 1\n",
      "New dataset shape: (12090, 15)\n"
     ]
    }
   ],
   "source": [
    "from numpy import ndarray\n",
    "from pandas import Series, DataFrame, concat\n",
    "from imblearn.over_sampling import SMOTE\n",
    "import pandas as pd\n",
    "\n",
    "# Define your dataset and target column here\n",
    "\n",
    "target = \"CLASS\"  # Replace with your target column name\n",
    "\n",
    "# Load the dataset\n",
    "original = pd.read_csv(file_path)\n",
    "\n",
    "# SMOTE configuration\n",
    "RANDOM_STATE = 42\n",
    "smote: SMOTE = SMOTE(sampling_strategy=\"minority\", random_state=RANDOM_STATE)\n",
    "\n",
    "# Separate features and target\n",
    "y = original.pop(target).values\n",
    "X: ndarray = original.values\n",
    "\n",
    "# Apply SMOTE\n",
    "smote_X, smote_y = smote.fit_resample(X, y)\n",
    "\n",
    "# Create the oversampled DataFrame\n",
    "df_smote: DataFrame = concat([DataFrame(smote_X), DataFrame(smote_y)], axis=1)\n",
    "df_smote.columns = list(original.columns) + [target]\n",
    "\n",
    "# Save the oversampled dataset\n",
    "df_smote.to_csv(\"class_arrests_SMOTE.csv\", index=False)\n",
    "\n",
    "# Analyze the class distribution in the oversampled dataset\n",
    "smote_target_count: Series = Series(smote_y).value_counts()\n",
    "minority_class = smote_target_count.idxmin()\n",
    "majority_class = smote_target_count.idxmax()\n",
    "\n",
    "print(\"Minority class=\", minority_class, \":\", smote_target_count[minority_class])\n",
    "print(\"Majority class=\", majority_class, \":\", smote_target_count[majority_class])\n",
    "print(\n",
    "    \"Proportion:\",\n",
    "    round(smote_target_count[minority_class] / smote_target_count[majority_class], 2),\n",
    "    \": 1\",\n",
    ")\n",
    "print(\"New dataset shape:\", df_smote.shape)\n"
   ]
  }
 ],
 "metadata": {
  "kernelspec": {
   "display_name": "base",
   "language": "python",
   "name": "python3"
  },
  "language_info": {
   "codemirror_mode": {
    "name": "ipython",
    "version": 3
   },
   "file_extension": ".py",
   "mimetype": "text/x-python",
   "name": "python",
   "nbconvert_exporter": "python",
   "pygments_lexer": "ipython3",
   "version": "3.12.7"
  },
  "orig_nbformat": 4
 },
 "nbformat": 4,
 "nbformat_minor": 2
}
