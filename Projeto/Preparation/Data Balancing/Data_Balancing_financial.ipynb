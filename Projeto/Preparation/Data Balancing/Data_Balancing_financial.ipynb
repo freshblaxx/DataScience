{
 "cells": [
  {
   "cell_type": "code",
   "execution_count": 14,
   "metadata": {},
   "outputs": [
    {
     "name": "stdout",
     "output_type": "stream",
     "text": [
      "Minority class= 1 : 136\n",
      "Majority class= 0 : 3536\n",
      "Proportion: 0.04 : 1\n"
     ]
    },
    {
     "data": {
      "image/png": "[encoded data removed]",
      "text/plain": [
       "<Figure size 720x432 with 1 Axes>"
      ]
     },
     "metadata": {
      "needs_background": "light"
     },
     "output_type": "display_data"
    }
   ],
   "source": [
    "import pandas as pd\n",
    "from pandas import read_csv, concat, DataFrame, Series\n",
    "from matplotlib.pyplot import figure, show, gca\n",
    "from matplotlib.axes import Axes\n",
    "from matplotlib.container import BarContainer\n",
    "from matplotlib import rcParams\n",
    "\n",
    "# Load the dataset\n",
    "file_path = '/Users/pascalludwig/Documents/Master/Semester 1/Term 2/Data Science/Project/DataScience/class_financial distress.csv'  # Replace with your file path\n",
    "data = pd.read_csv(file_path)\n",
    "\n",
    "# Define some constants for visual styling\n",
    "LINE_COLOR = \"black\"\n",
    "FILL_COLOR = \"skyblue\"\n",
    "FONT_TEXT = rcParams['font.size']\n",
    "\n",
    "def set_chart_labels(ax: Axes, title: str, xlabel: str, ylabel: str) -> Axes:\n",
    "    ax.set_title(title)\n",
    "    ax.set_xlabel(xlabel)\n",
    "    ax.set_ylabel(ylabel)\n",
    "    return ax\n",
    "\n",
    "def set_chart_xticks(xvalues: list, ax: Axes, percentage: bool = False) -> Axes:\n",
    "    labels = [f\"{x:.0%}\" if percentage else f\"{x}\" for x in xvalues]\n",
    "    ax.set_xticks(range(len(xvalues)))\n",
    "    ax.set_xticklabels(labels, rotation=45)\n",
    "    return ax\n",
    "\n",
    "def plot_bar_chart(\n",
    "    xvalues: list,\n",
    "    yvalues: list,\n",
    "    ax: Axes = None,  # type: ignore\n",
    "    title: str = \"\",\n",
    "    xlabel: str = \"\",\n",
    "    ylabel: str = \"\",\n",
    "    percentage: bool = False,\n",
    ") -> Axes:\n",
    "    if ax is None:\n",
    "        ax = gca()\n",
    "    ax = set_chart_labels(ax=ax, title=title, xlabel=xlabel, ylabel=ylabel)\n",
    "    ax = set_chart_xticks(xvalues, ax=ax, percentage=percentage)\n",
    "    values: BarContainer = ax.bar(\n",
    "        xvalues,\n",
    "        yvalues,\n",
    "        edgecolor=LINE_COLOR,\n",
    "        color=FILL_COLOR\n",
    "    )\n",
    "    format_str = \"%.2f\" if percentage else \"%.0f\"\n",
    "    ax.bar_label(values, fmt=format_str)\n",
    "\n",
    "    return ax\n",
    "\n",
    "# Analyze the target variable `LAW_CAT_CD`\n",
    "target = 'CLASS'\n",
    "class_counts = data[target].value_counts()\n",
    "\n",
    "# Display class information\n",
    "minority_class = class_counts.idxmin()\n",
    "majority_class = class_counts.idxmax()\n",
    "\n",
    "print(\"Minority class=\", minority_class, \":\", class_counts[minority_class])\n",
    "print(\"Majority class=\", majority_class, \":\", class_counts[majority_class])\n",
    "print(\n",
    "    \"Proportion:\",\n",
    "    round(class_counts[minority_class] / class_counts[majority_class], 2),\n",
    "    \": 1\",\n",
    ")\n",
    "\n",
    "# Plotting the bar chart\n",
    "fig = figure(figsize=(10, 6))\n",
    "ax = fig.add_subplot(111)\n",
    "plot_bar_chart(\n",
    "    xvalues=class_counts.index.tolist(),\n",
    "    yvalues=class_counts.values.tolist(),\n",
    "    ax=ax,\n",
    "    title=\"Distribution of CLASS\",\n",
    "    xlabel=\"CLASS\",\n",
    "    ylabel=\"Frequency\"\n",
    ")\n",
    "\n",
    "show()\n"
   ]
  }
 ],
 "metadata": {
  "kernelspec": {
   "display_name": "Python 3.9.7 ('base')",
   "language": "python",
   "name": "python3"
  },
  "language_info": {
   "codemirror_mode": {
    "name": "ipython",
    "version": 3
   },
   "file_extension": ".py",
   "mimetype": "text/x-python",
   "name": "python",
   "nbconvert_exporter": "python",
   "pygments_lexer": "ipython3",
   "version": "3.9.7"
  },
  "orig_nbformat": 4,
  "vscode": {
   "interpreter": {
    "hash": "1d04ba8e0f5ddc36f4cd1d0cc2c46f1313e2ec8fcd0fb4091e0fb1ef5256067f"
   }
  }
 },
 "nbformat": 4,
 "nbformat_minor": 2
}
