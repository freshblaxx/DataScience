{
 "cells": [
  {
   "cell_type": "code",
   "execution_count": 16,
   "metadata": {},
   "outputs": [
    {
     "name": "stdout",
     "output_type": "stream",
     "text": [
      "Minority class= 1 : 136\n",
      "Majority class= 0 : 3536\n",
      "Proportion: 0.04 : 1\n"
     ]
    },
    {
     "data": {
      "image/png": "[encoded data removed]",
      "text/plain": [
       "<Figure size 720x432 with 1 Axes>"
      ]
     },
     "metadata": {
      "needs_background": "light"
     },
     "output_type": "display_data"
    }
   ],
   "source": [
    "import pandas as pd\n",
    "from pandas import read_csv, concat, DataFrame, Series\n",
    "from matplotlib.pyplot import figure, show, gca\n",
    "from matplotlib.axes import Axes\n",
    "from matplotlib.container import BarContainer\n",
    "from matplotlib import rcParams\n",
    "\n",
    "# Load the dataset\n",
    "file_path = '/Users/pascalludwig/Documents/Master/Semester 1/Term 2/Data Science/Project/DataScience/class_financial distress.csv'  # Replace with your file path\n",
    "data = pd.read_csv(file_path)\n",
    "\n",
    "# Define some constants for visual styling\n",
    "LINE_COLOR = \"black\"\n",
    "FILL_COLOR = \"skyblue\"\n",
    "FONT_TEXT = rcParams['font.size']\n",
    "\n",
    "def set_chart_labels(ax: Axes, title: str, xlabel: str, ylabel: str) -> Axes:\n",
    "    ax.set_title(title)\n",
    "    ax.set_xlabel(xlabel)\n",
    "    ax.set_ylabel(ylabel)\n",
    "    return ax\n",
    "\n",
    "def set_chart_xticks(xvalues: list, ax: Axes, percentage: bool = False) -> Axes:\n",
    "    labels = [f\"{x:.0%}\" if percentage else f\"{x}\" for x in xvalues]\n",
    "    ax.set_xticks(range(len(xvalues)))\n",
    "    ax.set_xticklabels(labels, rotation=45)\n",
    "    return ax\n",
    "\n",
    "def plot_bar_chart(\n",
    "    xvalues: list,\n",
    "    yvalues: list,\n",
    "    ax: Axes = None,  # type: ignore\n",
    "    title: str = \"\",\n",
    "    xlabel: str = \"\",\n",
    "    ylabel: str = \"\",\n",
    "    percentage: bool = False,\n",
    ") -> Axes:\n",
    "    if ax is None:\n",
    "        ax = gca()\n",
    "    ax = set_chart_labels(ax=ax, title=title, xlabel=xlabel, ylabel=ylabel)\n",
    "    ax = set_chart_xticks(xvalues, ax=ax, percentage=percentage)\n",
    "    values: BarContainer = ax.bar(\n",
    "        xvalues,\n",
    "        yvalues,\n",
    "        edgecolor=LINE_COLOR,\n",
    "        color=FILL_COLOR\n",
    "    )\n",
    "    format_str = \"%.2f\" if percentage else \"%.0f\"\n",
    "    ax.bar_label(values, fmt=format_str)\n",
    "\n",
    "    return ax\n",
    "\n",
    "# Analyze the target variable `LAW_CAT_CD`\n",
    "target = 'CLASS'\n",
    "class_counts = data[target].value_counts()\n",
    "\n",
    "# Display class information\n",
    "minority_class = class_counts.idxmin()\n",
    "majority_class = class_counts.idxmax()\n",
    "\n",
    "print(\"Minority class=\", minority_class, \":\", class_counts[minority_class])\n",
    "print(\"Majority class=\", majority_class, \":\", class_counts[majority_class])\n",
    "print(\n",
    "    \"Proportion:\",\n",
    "    round(class_counts[minority_class] / class_counts[majority_class], 2),\n",
    "    \": 1\",\n",
    ")\n",
    "\n",
    "# Plotting the bar chart\n",
    "fig = figure(figsize=(10, 6))\n",
    "ax = fig.add_subplot(111)\n",
    "plot_bar_chart(\n",
    "    xvalues=class_counts.index.tolist(),\n",
    "    yvalues=class_counts.values.tolist(),\n",
    "    ax=ax,\n",
    "    title=\"Distribution of CLASS\",\n",
    "    xlabel=\"CLASS\",\n",
    "    ylabel=\"Frequency\"\n",
    ")\n",
    "\n",
    "show()\n"
   ]
  },
  {
   "cell_type": "code",
   "execution_count": 17,
   "metadata": {},
   "outputs": [
    {
     "name": "stdout",
     "output_type": "stream",
     "text": [
      "Number of rows in the positive class (1): 136\n",
      "Number of rows in the negative class (0): 3536\n"
     ]
    }
   ],
   "source": [
    "# Split the dataset into two subdatasets: one for each class\n",
    "df_positives = data[data[target] == minority_class]\n",
    "df_negatives = data[data[target] == majority_class]\n",
    "\n",
    "# Display the size of each subset\n",
    "print(f\"Number of rows in the positive class ({minority_class}): {len(df_positives)}\")\n",
    "print(f\"Number of rows in the negative class ({majority_class}): {len(df_negatives)}\")\n",
    "\n",
    "# Optionally, save the subsets for further exploration\n",
    "df_positives.to_csv(\"positive_class_financial.csv\", index=False)\n",
    "df_negatives.to_csv(\"negative_class_financial.csv\", index=False)\n",
    "\n",
    "# Sampling example: Adjust the number of rows in the positive class to balance the dataset\n",
    "# Uncomment below to sample as needed\n",
    "# sampled_positives = df_positives.sample(n=len(df_negatives), random_state=42)\n",
    "# balanced_dataset = pd.concat([sampled_positives, df_negatives], axis=0)\n",
    "\n",
    "# Save the balanced dataset for further exploration\n",
    "# balanced_dataset.to_csv(\"balanced_dataset.csv\", index=False)\n"
   ]
  },
  {
   "cell_type": "markdown",
   "metadata": {},
   "source": [
    "## Undersampling"
   ]
  },
  {
   "cell_type": "code",
   "execution_count": 18,
   "metadata": {},
   "outputs": [
    {
     "name": "stdout",
     "output_type": "stream",
     "text": [
      "Minority class=       Company  Time  Financial Distress  CLASS       x1        x2       x3  \\\n",
      "3           1     4            -0.56657      1  1.11310 -0.015229  0.85888   \n",
      "18          3     1            -1.65990      1  0.87440 -0.034676  0.79350   \n",
      "71          7    11            -1.26540      1  0.94406 -0.067489  0.93840   \n",
      "122        11     9            -0.80159      1  0.54940 -0.093647  0.78922   \n",
      "123        12     1            -0.66786      1  1.19530  0.060823  0.77593   \n",
      "...       ...   ...                 ...    ...      ...       ...      ...   \n",
      "3446      384    13            -1.07650      1  1.06030 -0.004541  0.84298   \n",
      "3475      389     9            -0.78181      1  1.19500 -0.056743  0.72227   \n",
      "3481      390     9            -0.59477      1  1.58300 -0.098116  0.56415   \n",
      "3636      415     9            -3.67180      1  1.30850 -0.115920  0.96790   \n",
      "3657      420     3            -2.54970      1  1.33080  0.005893  0.83101   \n",
      "\n",
      "            x4        x5        x6  ...      x74     x75      x76     x77  \\\n",
      "3     0.809740  0.076037  0.091033  ...   54.806   39.80   38.377  17.167   \n",
      "18    0.609520 -0.002632 -0.086847  ...   85.437   27.07   26.102  16.000   \n",
      "71    0.222470  0.001459 -0.039234  ...   91.500  130.50  132.400  20.000   \n",
      "122   0.559570 -0.058206 -0.305720  ...   93.883   82.30   74.497  16.500   \n",
      "123   0.579770  0.065788  0.142420  ...   85.437   27.07   26.102  16.000   \n",
      "...        ...       ...       ...  ...      ...     ...      ...     ...   \n",
      "3446  2.261600 -0.018962  0.045151  ...   92.900  203.20  204.500  22.000   \n",
      "3475  0.086658 -0.019311  0.140860  ...   89.272   77.75   69.189  16.250   \n",
      "3481  0.113740  0.014262  0.327920  ...   89.272   77.75   69.189  16.250   \n",
      "3636  0.184260 -0.077024  0.194290  ...   93.883   82.30   74.497  16.500   \n",
      "3657  0.496890  0.035941  0.236340  ...  110.530   32.50   31.464  17.000   \n",
      "\n",
      "        x78    x79  x80       x81  x82  x83  \n",
      "3     16.00   5.60   22 -0.325390   33   52  \n",
      "18    16.00   0.20   25 -0.303170    8   37  \n",
      "71    14.50 -16.00    9 -0.444090   19   54  \n",
      "122   13.00   0.60   14 -0.310030   18   47  \n",
      "123   16.00   0.20   12  2.002900    4   18  \n",
      "...     ...    ...  ...       ...  ...  ...  \n",
      "3446  22.00   6.40   32 -0.360340    4   26  \n",
      "3475  12.50   0.90   30 -0.453530   10   15  \n",
      "3481  12.50   0.90   30 -0.302200    6   16  \n",
      "3636  13.00   0.60   11 -0.165540    7   45  \n",
      "3657  15.75   0.25   11  0.009381    4   34  \n",
      "\n",
      "[136 rows x 87 columns] : 136\n",
      "Majority class=       Company  Time  Financial Distress  CLASS      x1        x2       x3  \\\n",
      "0           1     1            0.010636      0  1.2810  0.022934  0.87454   \n",
      "1           1     2           -0.455970      0  1.2700  0.006454  0.82067   \n",
      "2           1     3           -0.325390      0  1.0529 -0.059379  0.92242   \n",
      "4           2     1            1.357300      0  1.0623  0.107020  0.81460   \n",
      "5           2     2            0.007188      0  1.0558  0.081916  0.87949   \n",
      "...       ...   ...                 ...    ...     ...       ...      ...   \n",
      "3667      422    10            0.438020      0  2.2605  0.202890  0.16037   \n",
      "3668      422    11            0.482410      0  1.9615  0.216440  0.20095   \n",
      "3669      422    12            0.500770      0  1.7099  0.207970  0.26136   \n",
      "3670      422    13            0.611030      0  1.5590  0.185450  0.30728   \n",
      "3671      422    14            0.518650      0  1.6148  0.176760  0.36369   \n",
      "\n",
      "           x4        x5        x6  ...      x74     x75      x76     x77  \\\n",
      "0     1.21640  0.060940  0.188270  ...   85.437   27.07   26.102  16.000   \n",
      "1     1.00490 -0.014080  0.181040  ...  107.090   31.31   30.194  17.000   \n",
      "2     0.72926  0.020476  0.044865  ...  120.870   36.07   35.273  17.000   \n",
      "4     0.83593  0.199960  0.047800  ...   85.437   27.07   26.102  16.000   \n",
      "5     0.68673  0.142630  0.043102  ...  107.090   31.31   30.194  17.000   \n",
      "...       ...       ...       ...  ...      ...     ...      ...     ...   \n",
      "3667  0.18588  0.175970  0.198400  ...  100.000  100.00  100.000  17.125   \n",
      "3668  0.21642  0.203590  0.189870  ...   91.500  130.50  132.400  20.000   \n",
      "3669  0.21399  0.193670  0.183890  ...   87.100  175.90  178.100  20.000   \n",
      "3670  0.19307  0.172140  0.170680  ...   92.900  203.20  204.500  22.000   \n",
      "3671  0.18442  0.169550  0.197860  ...   91.700  227.50  214.500  21.000   \n",
      "\n",
      "       x78   x79  x80       x81  x82  x83  \n",
      "0     16.0   0.2   22  0.060390   30   49  \n",
      "1     16.0   0.4   22  0.010636   31   50  \n",
      "2     15.0  -0.2   22 -0.455970   32   51  \n",
      "4     16.0   0.2   29  1.251000    7   27  \n",
      "5     16.0   0.4   29  1.357300    8   28  \n",
      "...    ...   ...  ...       ...  ...  ...  \n",
      "3667  14.5  -7.0   37  0.436380    4   41  \n",
      "3668  14.5 -16.0   37  0.438020    5   42  \n",
      "3669  14.5 -20.2   37  0.482410    6   43  \n",
      "3670  22.0   6.4   37  0.500770    7   44  \n",
      "3671  20.5   8.6   37  0.611030    8   45  \n",
      "\n",
      "[3536 rows x 87 columns] : 3536\n",
      "Proportion: 1.0 : 1\n"
     ]
    }
   ],
   "source": [
    "# Perform undersampling on the majority class\n",
    "df_neg_sample: DataFrame = DataFrame(df_negatives.sample(len(df_positives), random_state=42))\n",
    "\n",
    "# Combine the minority class and sampled majority class to create a balanced dataset\n",
    "df_under: DataFrame = concat([df_positives, df_neg_sample], axis=0)\n",
    "\n",
    "# Save the undersampled dataset\n",
    "df_under.to_csv(\"class_financial_under.csv\", index=False)\n",
    "\n",
    "# Display class proportions in the undersampled dataset\n",
    "print(\"Minority class=\", df_positives, \":\", len(df_positives))\n",
    "print(\"Majority class=\", df_negatives, \":\", len(df_negatives))\n",
    "print(\"Proportion:\", round(len(df_positives) / len(df_neg_sample), 2), \": 1\")"
   ]
  },
  {
   "cell_type": "markdown",
   "metadata": {},
   "source": [
    "## Oversampling"
   ]
  },
  {
   "cell_type": "markdown",
   "metadata": {},
   "source": []
  }
 ],
 "metadata": {
  "kernelspec": {
   "display_name": "Python 3.9.7 ('base')",
   "language": "python",
   "name": "python3"
  },
  "language_info": {
   "codemirror_mode": {
    "name": "ipython",
    "version": 3
   },
   "file_extension": ".py",
   "mimetype": "text/x-python",
   "name": "python",
   "nbconvert_exporter": "python",
   "pygments_lexer": "ipython3",
   "version": "3.9.7"
  },
  "orig_nbformat": 4,
  "vscode": {
   "interpreter": {
    "hash": "1d04ba8e0f5ddc36f4cd1d0cc2c46f1313e2ec8fcd0fb4091e0fb1ef5256067f"
   }
  }
 },
 "nbformat": 4,
 "nbformat_minor": 2
}
