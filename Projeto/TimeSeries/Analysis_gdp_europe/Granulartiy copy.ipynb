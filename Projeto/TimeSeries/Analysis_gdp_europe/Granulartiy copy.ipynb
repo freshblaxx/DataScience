{
 "cells": [
  {
   "cell_type": "code",
   "execution_count": null,
   "metadata": {},
   "outputs": [
    {
     "ename": "SyntaxError",
     "evalue": "invalid syntax (3806945650.py, line 27)",
     "output_type": "error",
     "traceback": [
      "\u001b[0;36m  Cell \u001b[0;32mIn[17], line 27\u001b[0;36m\u001b[0m\n\u001b[0;31m    ddef ts_aggregation_by(\u001b[0m\n\u001b[0m         ^\u001b[0m\n\u001b[0;31mSyntaxError\u001b[0m\u001b[0;31m:\u001b[0m invalid syntax\n"
     ]
    }
   ],
   "source": [
    "from pandas import read_csv, DataFrame, Series, Period, Index\n",
    "from matplotlib.pyplot import figure, show\n",
    "from dslabs_functions import plot_line_chart, HEIGHT\n",
    "\n",
    "# File details\n",
    "file_tag = \"forecast_gdp_europe\"\n",
    "target = \"GDP\"\n",
    "\n",
    "# Load data from CSV\n",
    "data: DataFrame = read_csv(\n",
    "    \"/Users/tomifemme/Desktop/DataScience/forecast_gdp_europe.csv\",\n",
    "    index_col=\"Year\",  # Adjust to 'Year' if that's the correct column name\n",
    "    sep=\",\",  # Comma-separated values\n",
    "    decimal=\".\",  # Use period as decimal separator\n",
    "    parse_dates=[\"Year\"],  # Parse the 'Year' column as datetime\n",
    "    infer_datetime_format=True,  # Automatically infer datetime format\n",
    ")\n",
    "\n",
    "# Extract target series\n",
    "series: Series = data[target]\n",
    "\n",
    "# Profiling output\n",
    "print(\"Number of Records =\", series.shape[0])\n",
    "print(\"First Year:\", series.index[0].year)\n",
    "print(\"Last Year:\", series.index[-1].year)\n",
    "\n",
    "def ts_aggregation_by(\n",
    "    data: Series | DataFrame,\n",
    "    gran_level: str = \"Y\",  # Granularity level ('Y', '5Y', '10Y')\n",
    "    agg_func: str = \"mean\",  # Aggregation function (e.g., mean)\n",
    ") -> Series | DataFrame:\n",
    "    df: Series | DataFrame = data.copy()\n",
    "\n",
    "    # Convert the index to a Period index\n",
    "    if gran_level == 'Y':\n",
    "        index: Index[Period] = df.index.to_period('Y') \n",
    "    elif gran_level == '5Y':\n",
    "        index: Index[Period] = df.index.to_period('5Y') \n",
    "    elif gran_level == '10Y':\n",
    "        index: Index[Period] = df.index.to_period('10Y') \n",
    "    else:\n",
    "        raise ValueError(f\"Unsupported granularity level: {gran_level}\")\n",
    "\n",
    "    # Apply the shift based on granularity\n",
    "    if gran_level == '5Y':\n",
    "        start_year = df.index[0].year \n",
    "        index = index.shift(-(start_year % 5)) \n",
    "    elif gran_level == '10Y':\n",
    "        start_year = df.index[0].year\n",
    "        index = index.shift(-(start_year % 10))\n",
    "\n",
    "    # Group by the Period index and apply the aggregation function\n",
    "    df = df.groupby(by=index, dropna=True, sort=True).agg(agg_func)\n",
    "\n",
    "    # Convert the Period index back to a timestamp for plotting\n",
    "    df.index = df.index.to_timestamp()\n",
    "\n",
    "    return df\n",
    "\n",
    "# Define granularity levels to study\n",
    "grans: list[str] = [\"Y\", \"5Y\", \"10Y\"]  # Yearly, 5-Year, 10-Year\n",
    "\n",
    "# Loop through each granularity level and plot one by one\n",
    "for granularity in grans:\n",
    "    # Aggregate the time series to the current granularity level\n",
    "    ss: Series = ts_aggregation_by(series, granularity)\n",
    "    \n",
    "    # Print the aggregated data for debugging\n",
    "    print(f\"\\nAggregated data for granularity {granularity}:\")\n",
    "    print(ss)\n",
    "\n",
    "    # Create a figure for the current granularity\n",
    "    figure(figsize=(3 * HEIGHT, HEIGHT / 2))\n",
    "    \n",
    "    # Plot the aggregated time series\n",
    "    plot_line_chart(\n",
    "        ss.index.to_list(),\n",
    "        ss.to_list(),\n",
    "        xlabel=f\"Year ({granularity})\",  # Label with granularity level\n",
    "        ylabel=target,\n",
    "        title=f\"granularity={granularity}\",  # Title for the plot\n",
    "    )\n",
    "\n",
    "    # Display the plot one by one\n",
    "    show()"
   ]
  },
  {
   "cell_type": "code",
   "execution_count": null,
   "metadata": {},
   "outputs": [],
   "source": []
  },
  {
   "cell_type": "code",
   "execution_count": null,
   "metadata": {},
   "outputs": [],
   "source": []
  },
  {
   "cell_type": "code",
   "execution_count": null,
   "metadata": {},
   "outputs": [],
   "source": []
  },
  {
   "cell_type": "code",
   "execution_count": null,
   "metadata": {},
   "outputs": [],
   "source": []
  },
  {
   "cell_type": "code",
   "execution_count": null,
   "metadata": {},
   "outputs": [],
   "source": []
  },
  {
   "cell_type": "code",
   "execution_count": null,
   "metadata": {},
   "outputs": [],
   "source": []
  }
 ],
 "metadata": {
  "kernelspec": {
   "display_name": "base",
   "language": "python",
   "name": "python3"
  },
  "language_info": {
   "codemirror_mode": {
    "name": "ipython",
    "version": 3
   },
   "file_extension": ".py",
   "mimetype": "text/x-python",
   "name": "python",
   "nbconvert_exporter": "python",
   "pygments_lexer": "ipython3",
   "version": "3.12.7"
  }
 },
 "nbformat": 4,
 "nbformat_minor": 2
}
